{
 "cells": [
  {
   "cell_type": "code",
   "execution_count": 1,
   "id": "fd28cf46-c7b6-42c7-8502-c77dd52ffbd2",
   "metadata": {},
   "outputs": [
    {
     "name": "stdout",
     "output_type": "stream",
     "text": [
      "Requirement already satisfied: pywhatkit in c:\\users\\abdul\\anaconda3\\lib\\site-packages (5.4)\n",
      "Requirement already satisfied: pyautogui in c:\\users\\abdul\\anaconda3\\lib\\site-packages (0.9.54)\n",
      "Requirement already satisfied: Pillow in c:\\users\\abdul\\anaconda3\\lib\\site-packages (from pywhatkit) (10.2.0)\n",
      "Requirement already satisfied: requests in c:\\users\\abdul\\anaconda3\\lib\\site-packages (from pywhatkit) (2.31.0)\n",
      "Requirement already satisfied: wikipedia in c:\\users\\abdul\\anaconda3\\lib\\site-packages (from pywhatkit) (1.4.0)\n",
      "Requirement already satisfied: Flask in c:\\users\\abdul\\anaconda3\\lib\\site-packages (from pywhatkit) (2.2.5)\n",
      "Requirement already satisfied: pymsgbox in c:\\users\\abdul\\anaconda3\\lib\\site-packages (from pyautogui) (1.0.9)\n",
      "Requirement already satisfied: pytweening>=1.0.4 in c:\\users\\abdul\\anaconda3\\lib\\site-packages (from pyautogui) (1.2.0)\n",
      "Requirement already satisfied: pyscreeze>=0.1.21 in c:\\users\\abdul\\anaconda3\\lib\\site-packages (from pyautogui) (0.1.30)\n",
      "Requirement already satisfied: pygetwindow>=0.0.5 in c:\\users\\abdul\\anaconda3\\lib\\site-packages (from pyautogui) (0.0.9)\n",
      "Requirement already satisfied: mouseinfo in c:\\users\\abdul\\anaconda3\\lib\\site-packages (from pyautogui) (0.1.3)\n",
      "Requirement already satisfied: pyrect in c:\\users\\abdul\\anaconda3\\lib\\site-packages (from pygetwindow>=0.0.5->pyautogui) (0.2.0)\n",
      "Requirement already satisfied: Werkzeug>=2.2.2 in c:\\users\\abdul\\anaconda3\\lib\\site-packages (from Flask->pywhatkit) (2.2.3)\n",
      "Requirement already satisfied: Jinja2>=3.0 in c:\\users\\abdul\\anaconda3\\lib\\site-packages (from Flask->pywhatkit) (3.1.3)\n",
      "Requirement already satisfied: itsdangerous>=2.0 in c:\\users\\abdul\\anaconda3\\lib\\site-packages (from Flask->pywhatkit) (2.0.1)\n",
      "Requirement already satisfied: click>=8.0 in c:\\users\\abdul\\anaconda3\\lib\\site-packages (from Flask->pywhatkit) (8.1.7)\n",
      "Requirement already satisfied: pyperclip in c:\\users\\abdul\\anaconda3\\lib\\site-packages (from mouseinfo->pyautogui) (1.9.0)\n",
      "Requirement already satisfied: charset-normalizer<4,>=2 in c:\\users\\abdul\\anaconda3\\lib\\site-packages (from requests->pywhatkit) (2.0.4)\n",
      "Requirement already satisfied: idna<4,>=2.5 in c:\\users\\abdul\\anaconda3\\lib\\site-packages (from requests->pywhatkit) (3.4)\n",
      "Requirement already satisfied: urllib3<3,>=1.21.1 in c:\\users\\abdul\\anaconda3\\lib\\site-packages (from requests->pywhatkit) (2.0.7)\n",
      "Requirement already satisfied: certifi>=2017.4.17 in c:\\users\\abdul\\anaconda3\\lib\\site-packages (from requests->pywhatkit) (2024.6.2)\n",
      "Requirement already satisfied: beautifulsoup4 in c:\\users\\abdul\\anaconda3\\lib\\site-packages (from wikipedia->pywhatkit) (4.12.2)\n",
      "Requirement already satisfied: colorama in c:\\users\\abdul\\anaconda3\\lib\\site-packages (from click>=8.0->Flask->pywhatkit) (0.4.6)\n",
      "Requirement already satisfied: MarkupSafe>=2.0 in c:\\users\\abdul\\anaconda3\\lib\\site-packages (from Jinja2>=3.0->Flask->pywhatkit) (2.1.3)\n",
      "Requirement already satisfied: soupsieve>1.2 in c:\\users\\abdul\\anaconda3\\lib\\site-packages (from beautifulsoup4->wikipedia->pywhatkit) (2.5)\n"
     ]
    },
    {
     "name": "stderr",
     "output_type": "stream",
     "text": [
      "'apt-get' is not recognized as an internal or external command,\n",
      "operable program or batch file.\n"
     ]
    }
   ],
   "source": [
    "!pip install pywhatkit pyautogui\n",
    "!apt-get install -y xvfb\n",
    "\n"
   ]
  },
  {
   "cell_type": "code",
   "execution_count": 5,
   "id": "4387ebaa-286f-480b-856d-de7a046f39cc",
   "metadata": {},
   "outputs": [
    {
     "name": "stdout",
     "output_type": "stream",
     "text": [
      "In 3 Seconds WhatsApp will open and after 15 Seconds Message will be Delivered!\n"
     ]
    }
   ],
   "source": [
    "import pywhatkit as pyw\n",
    "import pyautogui\n",
    "import time\n",
    "\n",
    "# Set the display settings (not required on Windows)\n",
    "# os.environ['DISPLAY'] = ':99'\n",
    "\n",
    "# Wait for 5 seconds to ensure the WhatsApp web interface is loaded\n",
    "time.sleep(5)\n",
    "\n",
    "# Open WhatsApp Web using the default browser\n",
    "pyautogui.hotkey('winleft', 'r')  # Open the Run dialog\n",
    "pyautogui.typewrite('https://web.whatsapp.com/')\n",
    "pyautogui.press('enter')\n",
    "\n",
    "# Wait for WhatsApp Web to load\n",
    "time.sleep(10)\n",
    "\n",
    "# Send the message\n",
    "pyw.sendwhatmsg('+6364411961', 'Welcome to siet', 10, 7)"
   ]
  },
  {
   "cell_type": "code",
   "execution_count": null,
   "id": "b07dc1d4-53ee-4496-a886-6a722fa5c49d",
   "metadata": {},
   "outputs": [],
   "source": []
  }
 ],
 "metadata": {
  "kernelspec": {
   "display_name": "Python 3 (ipykernel)",
   "language": "python",
   "name": "python3"
  },
  "language_info": {
   "codemirror_mode": {
    "name": "ipython",
    "version": 3
   },
   "file_extension": ".py",
   "mimetype": "text/x-python",
   "name": "python",
   "nbconvert_exporter": "python",
   "pygments_lexer": "ipython3",
   "version": "3.11.7"
  }
 },
 "nbformat": 4,
 "nbformat_minor": 5
}
